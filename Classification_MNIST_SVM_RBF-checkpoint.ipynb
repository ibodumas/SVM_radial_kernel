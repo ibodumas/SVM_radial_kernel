{
 "cells": [
  {
   "cell_type": "markdown",
   "metadata": {},
   "source": [
    "# RBF SVC"
   ]
  },
  {
   "cell_type": "markdown",
   "metadata": {},
   "source": [
    "# Problems Identification: \n",
    "\n",
    "This project involves the implementation of efficient and effective RBF SVC on MNIST data set. The MNIST data comprises of digital images of several digits ranging from 0 to 9. Each image is 28 x 28 pixels. Thus, the data set has 10 levels of classes."
   ]
  },
  {
   "cell_type": "markdown",
   "metadata": {},
   "source": [
    "These are the needed packages:"
   ]
  },
  {
   "cell_type": "code",
   "execution_count": 116,
   "metadata": {
    "collapsed": true
   },
   "outputs": [],
   "source": [
    "import winsound\n",
    "import matplotlib.pyplot as plt\n",
    "plt.rcdefaults()\n",
    "import warnings\n",
    "warnings.filterwarnings(\"ignore\", category=DeprecationWarning)\n",
    "warnings.simplefilter('ignore')\n",
    "from sklearn.model_selection import ParameterGrid\n",
    "from sklearn.metrics import confusion_matrix, accuracy_score\n",
    "from sklearn.svm import SVC, LinearSVC\n",
    "from mnist import MNIST\n",
    "from time import time\n",
    "import matplotlib.pyplot as plt\n",
    "plt.rcdefaults()\n",
    "from IPython.display import display\n",
    "from pylab import subplot\n",
    "import pandas as pd\n",
    "import numpy as np\n",
    "import os\n",
    "import random as rand\n",
    "import pylab as pl"
   ]
  },
  {
   "cell_type": "markdown",
   "metadata": {},
   "source": [
    "Load the dataset, having downloaded it from Yann. The train data set comprises of 60,000 samples and the test data set has 10,000 samples."
   ]
  },
  {
   "cell_type": "code",
   "execution_count": 2,
   "metadata": {
    "collapsed": true
   },
   "outputs": [],
   "source": [
    "__mndata__ = MNIST(os.getcwd() +'\\\\image')\n",
    "__train_image__, __train_label__ = __mndata__.load_training() #train & train_label\n",
    "__test_image__, __test_label__ = __mndata__.load_testing() #test & test_label"
   ]
  },
  {
   "cell_type": "markdown",
   "metadata": {},
   "source": [
    "The train and test images were reshaped to 784 dimension long, which translate to one feature for each pixel in the image."
   ]
  },
  {
   "cell_type": "markdown",
   "metadata": {},
   "source": [
    "### Visualization:\n",
    "Visualizing a random 28 by 28 image."
   ]
  },
  {
   "cell_type": "code",
   "execution_count": 8,
   "metadata": {},
   "outputs": [
    {
     "data": {
      "image/png": "[encoded data removed]",
      "text/plain": [
       "<matplotlib.figure.Figure at 0x14df1f46b38>"
      ]
     },
     "metadata": {},
     "output_type": "display_data"
    }
   ],
   "source": [
    "plt.imshow(np.reshape(__train_image__[rand.randint(1,1000)], [28,28]), cmap='Greys_r'); plt.title('Visualizing a random sample'); plt.show()"
   ]
  },
  {
   "cell_type": "markdown",
   "metadata": {},
   "source": [
    "### Implementation functions:"
   ]
  },
  {
   "cell_type": "code",
   "execution_count": 244,
   "metadata": {
    "collapsed": true
   },
   "outputs": [],
   "source": [
    "class Utility:\n",
    "    \"\"\"This class warehouses the data and other general functions\"\"\"\n",
    "    def __init__(self):\n",
    "        self.train = np.asarray([np.reshape(x, (784)) for x in __train_image__]).astype(\n",
    "            'float64')  # change train_image to numpy array #784 means 28 by 28 pixel\n",
    "        self.train_label = np.asarray(__train_label__)\n",
    "        self.test = np.asarray([np.reshape(x, (784)) for x in __test_image__]).astype(\n",
    "            'float64')  # change test_image to numpy array\n",
    "        self.test_label = np.asarray(__test_label__)\n",
    "        self.n_class = list(range(10))  # class labels\n",
    "\n",
    "    def confusionMatrix(actual, predict, classV=range(10), print_cfm=True, print_err_digit=True):\n",
    "        cfm = pd.DataFrame(confusion_matrix(actual, predict))\n",
    "        acc_all = round((sum(np.diagonal(cfm)) / len(predict)) * 100, 4)\n",
    "        acc_digit = []\n",
    "        for i in classV:\n",
    "            acc_digit.append(round(cfm.iloc[i, i] / sum(cfm.iloc[i, :]), 4) * 100)\n",
    "\n",
    "        tab_error = pd.DataFrame(columns=['digit', 'Accuracy per digit in %'])\n",
    "        tab_error['digit'] = classV\n",
    "        tab_error['Accuracy per digit in %'] = acc_digit\n",
    "\n",
    "        if print_cfm:\n",
    "            print('Testing Confusion Matrix: Actual vs. Prediction')\n",
    "            display(cfm)\n",
    "\n",
    "        if print_err_digit:\n",
    "            print('% Accuracy per digit')\n",
    "            display(tab_error)\n",
    "            print('\\nThe overall testing accuracy is {}%'.format(acc_all))\n",
    "\n",
    "        return cfm, tab_error, acc_all\n",
    "\n",
    "    def mutiplePlot(xValue, yValues, legend, title, xLabel, yLabel, color):\n",
    "        plt.subplots(figsize=(10, 5))\n",
    "        for i in range(len(yValues)):\n",
    "            plt.semilogx(xValue, yValues[i], '-gD', label=legend[i], color=color[i])\n",
    "        plt.xlabel(xLabel)\n",
    "        plt.ylabel(yLabel)\n",
    "        plt.grid(True)\n",
    "        plt.legend()\n",
    "        plt.title(title)\n",
    "        plt.show()\n",
    "\n",
    "    def plot_(xValues, yValue, xlabel, ylabel, title, semilogx=False, semilogy=False):\n",
    "        yValue = np.round(yValue, 4)\n",
    "        if semilogx:\n",
    "            plt.semilogx(xValues, yValue, '-gD', color='black')\n",
    "        elif semilogy:\n",
    "            plt.semilogy(xValues, yValue, '-gD', color='black')\n",
    "        else:\n",
    "            plt.plot(xValues, yValue, '-gD', color='black')\n",
    "            # ax.set_xticks(xValues, xValues)\n",
    "\n",
    "        ax = subplot(111)\n",
    "        plt.ylabel(ylabel)\n",
    "        plt.xlabel(xlabel)\n",
    "        plt.title(title)\n",
    "        plt.show()\n",
    "\n",
    "    def sound_notifier():\n",
    "        winsound.Beep(1000, 10000)\n",
    "\n",
    "# End of Class Utility\n",
    "\n",
    "class SVM_Models:\n",
    "    '''This class warehouses functions for various models'''\n",
    "    def __init__(self, train, train_lb, test, test_lb, k_fold_cv=None, live=True):\n",
    "        '''\n",
    "        :param train: X train\n",
    "        :param train_lb: y train\n",
    "        :param test: X test\n",
    "        :param test_lb: y test\n",
    "        :param k_fold_cv: number of folds for cross validation\n",
    "        '''\n",
    "        self.train = train\n",
    "        self.train_lb = train_lb\n",
    "        self.test = test\n",
    "        self.test_lb = test_lb\n",
    "        self.kfold = k_fold_cv\n",
    "        self.live = live\n",
    "            \n",
    "    def svc(self, costs, kernel, params):\n",
    "        param_grid = None\n",
    "        if kernel == 'rbf':\n",
    "            param_grid = ParameterGrid(dict(gamma=params, C=costs))\n",
    "        elif kernel == 'poly':\n",
    "            param_grid = ParameterGrid(dict(C=costs, degree=params))\n",
    "\n",
    "        self.df = pd.DataFrame.from_dict(list(param_grid))\n",
    "        self.df['train_acc'], self.df['test_acc'] = None, None\n",
    "        t = time()\n",
    "        self.model_param, self.test_pred, self.time = [], [], []\n",
    "        \n",
    "        for i, grid in enumerate(param_grid):\n",
    "            st_tim = time()\n",
    "            model = SVC(kernel=kernel)\n",
    "            set_param = model.set_params(**grid)\n",
    "            model_fit = model.fit(self.train, self.train_lb)\n",
    "            self.model_param.append(model_fit)\n",
    "            self.df['train_acc'][i] = model_fit.score(self.train, self.train_lb)\n",
    "            pred = model_fit.predict(self.test)\n",
    "            self.test_pred.append(pred)\n",
    "            self.df['test_acc'][i] = accuracy_score(self.test_lb, pred)\n",
    "            self.time.append(time() - st_tim)\n",
    "        \n",
    "        self.time_all = time() - t\n",
    "        if not self.live:\n",
    "            Utility.sound_notifier()\n",
    "    \n",
    "    def heatmap(accuracy, gammas, costs, title):\n",
    "        plt.figure(figsize=(8, 5))\n",
    "        plt.subplots_adjust(left=.2, right=0.95, bottom=0.15, top=0.95)\n",
    "        plt.imshow(np.reshape(list(accuracy), (6,5)), interpolation='nearest', cmap=plt.cm.hot, norm=MidpointNormalize(vmin=0.2, midpoint=0.92))\n",
    "        plt.xlabel('gamma')\n",
    "        plt.ylabel('C')\n",
    "        plt.colorbar()\n",
    "        plt.xticks(np.arange(5), gammas, rotation=45)\n",
    "        plt.yticks(np.arange(6), costs)\n",
    "        plt.title(title)\n",
    "        plt.show()\n",
    "        \n",
    "    def plot_text(xs, ys):\n",
    "        pl.figure(figsize=(16, 5))\n",
    "        pl.plot(xs, ys, \"-o\")\n",
    "        pl.xlabel('Test Acccuracy')\n",
    "        pl.ylabel('Train Acccuracy')\n",
    "        pl.title('Plot of Train and Test Accuracy')\n",
    "        i = 0\n",
    "        point = range(len(xs))\n",
    "        for x, y in zip(xs, ys):\n",
    "            pl.text(x, y, str(point[i]), color=\"black\", fontsize=13)\n",
    "            i +=1\n",
    "        pl.show()\n",
    "        \n",
    "    def plot_support(n_supp, sup_vec, train_):\n",
    "        ind = 0\n",
    "        plt.subplots(2,5, figsize=(24,10))\n",
    "        for i in range(len(n_supp)):\n",
    "           l1 = plt.subplot(2, 5, i + 1)\n",
    "           image = train_[sup_vec[ind:ind+n_supp[i]]][0]\n",
    "           l1.imshow(image.reshape(28, 28), cmap='gray')\n",
    "           l1.set_xticks(())\n",
    "           l1.set_yticks(())\n",
    "           l1.set_xlabel('SV for Model Class {} vs. {}'.format(i, i+1))\n",
    "           ind = ind + n_supp[i]\n",
    "        \n",
    "        l1.set_xlabel('SV for Model Class 9 vs. 0')\n",
    "        plt.suptitle('Support Vectors for Positive Classes')\n",
    "        plt.show()\n",
    "        \n",
    "    def plot_support_neg(n_supp, sup_vec, train):\n",
    "        ind = n_supp[0]\n",
    "        plt.subplots(2, 5, figsize=(24, 10))\n",
    "        for i in range(len(n_supp)-1):\n",
    "           l1 = plt.subplot(2, 5, i + 1)\n",
    "           sv_image = util.train[sup_vec[ind:ind+n_supp[i+1]]][100]\n",
    "           l1.imshow(sv_image.reshape(28, 28), cmap='gray')\n",
    "           l1.set_xticks(())\n",
    "           l1.set_yticks(())\n",
    "           l1.set_xlabel('SV for Model Class {} vs. {}'.format(i, i+1))\n",
    "           ind = ind + n_supp[i+1]\n",
    "\n",
    "        ind = 0\n",
    "        l1 = plt.subplot(2, 5, 10)\n",
    "        sv_image = util.train[sup_vec[ind:ind+n_supp[0]]][100]\n",
    "        l1.imshow(sv_image.reshape(28, 28), cmap='gray')\n",
    "        l1.set_xticks(())\n",
    "        l1.set_yticks(())\n",
    "        l1.set_xlabel('SV for Model Class 9 vs. 0')\n",
    "        plt.suptitle('Support Vectors for Negative Classes')\n",
    "        plt.show()\n",
    "\n",
    "from matplotlib.colors import Normalize\n",
    "class MidpointNormalize(Normalize):\n",
    "    def __init__(self, vmin=None, vmax=None, midpoint=None, clip=False):\n",
    "        self.midpoint = midpoint\n",
    "        Normalize.__init__(self, vmin, vmax, clip)\n",
    "\n",
    "    def __call__(self, value, clip=None):\n",
    "        x, y = [self.vmin, self.midpoint, self.vmax], [0, 0.5, 1]\n",
    "        return np.ma.masked_array(np.interp(value, x, y))"
   ]
  },
  {
   "cell_type": "markdown",
   "metadata": {},
   "source": [
    "# SVC - Radial (Gaussian) Basis Function kernel"
   ]
  },
  {
   "cell_type": "markdown",
   "metadata": {},
   "source": [
    "Let $\\mathbf{x}$ and $ \\mathbf{x'}$ be two feature vectors, then their RBF kernel is:\n",
    "\n",
    "$K(\\mathbf{x}, \\mathbf{x'}) = \\exp\\left(-\\frac{\\|\\mathbf{x} - \\mathbf{x'}\\|^2}{2\\sigma^2}\\right)$\n",
    "\n",
    "$\\textstyle\\|\\mathbf{x} - \\mathbf{x'}\\|^2$ is can be considered as the Euclidean distance between the two feature vectors.\n",
    "\n",
    "This equation can be simplified:\n",
    "\n",
    "$K(\\mathbf{x}, \\mathbf{x'}) = \\exp(-\\gamma\\|\\mathbf{x} - \\mathbf{x'}\\|^2)$,     $\\ \\ \\gamma > 0$\n",
    "\n",
    "Where $\\textstyle\\gamma = \\tfrac{1}{2\\sigma^2}$\n",
    "\n",
    "RBF SVC seems to work better on a scaled dataset, hence, the train and test sets were scaled between zero and one by dividing through by 255 (which is the maximum value in the dataset)\n",
    "\n",
    "Gamma is a parameter of the radial basis function kernel, a small gamma in RBF means high standard deviation around each point and vice-versa.\n",
    "\n",
    "On the other hand, the cost is a parameter of the SVM. Cost determines how much penalty is given to data point on the wrong side of the hyperplane. A Low cost simply implies a smooth decision surface. inversely, a high cost aims at correctly classifying all the training set, which might lead to a complex model."
   ]
  },
  {
   "cell_type": "markdown",
   "metadata": {},
   "source": [
    "# (i) Grid search over several values of C and gamma"
   ]
  },
  {
   "cell_type": "code",
   "execution_count": 4,
   "metadata": {
    "collapsed": true
   },
   "outputs": [],
   "source": [
    "util = Utility()\n",
    "costs = [1, 10, 100, 1000, 10000, 100000]\n",
    "gammas = [0.0001, 0.001, 0.01, 0.02, 0.1]"
   ]
  },
  {
   "cell_type": "code",
   "execution_count": 5,
   "metadata": {
    "collapsed": true
   },
   "outputs": [],
   "source": [
    "model = SVM_Models(util.train/255, util.train_label, util.test/255, util.test_label, live=False)\n",
    "model.svc(costs, 'rbf', gammas)"
   ]
  },
  {
   "cell_type": "code",
   "execution_count": 13,
   "metadata": {
    "collapsed": true
   },
   "outputs": [],
   "source": [
    "model_rbf = model"
   ]
  },
  {
   "cell_type": "code",
   "execution_count": 130,
   "metadata": {
    "scrolled": false
   },
   "outputs": [
    {
     "data": {
      "text/html": [
       "<div>\n",
       "<style>\n",
       "    .dataframe thead tr:only-child th {\n",
       "        text-align: right;\n",
       "    }\n",
       "\n",
       "    .dataframe thead th {\n",
       "        text-align: left;\n",
       "    }\n",
       "\n",
       "    .dataframe tbody tr th {\n",
       "        vertical-align: top;\n",
       "    }\n",
       "</style>\n",
       "<table border=\"1\" class=\"dataframe\">\n",
       "  <thead>\n",
       "    <tr style=\"text-align: right;\">\n",
       "      <th></th>\n",
       "      <th>C</th>\n",
       "      <th>gamma</th>\n",
       "      <th>train_acc</th>\n",
       "      <th>test_acc</th>\n",
       "    </tr>\n",
       "  </thead>\n",
       "  <tbody>\n",
       "    <tr>\n",
       "      <th>0</th>\n",
       "      <td>1</td>\n",
       "      <td>0.0001</td>\n",
       "      <td>0.905583</td>\n",
       "      <td>0.9118</td>\n",
       "    </tr>\n",
       "    <tr>\n",
       "      <th>1</th>\n",
       "      <td>1</td>\n",
       "      <td>0.0010</td>\n",
       "      <td>0.93885</td>\n",
       "      <td>0.9417</td>\n",
       "    </tr>\n",
       "    <tr>\n",
       "      <th>2</th>\n",
       "      <td>1</td>\n",
       "      <td>0.0100</td>\n",
       "      <td>0.98545</td>\n",
       "      <td>0.9769</td>\n",
       "    </tr>\n",
       "    <tr>\n",
       "      <th>3</th>\n",
       "      <td>1</td>\n",
       "      <td>0.0200</td>\n",
       "      <td>0.9946</td>\n",
       "      <td>0.9826</td>\n",
       "    </tr>\n",
       "    <tr>\n",
       "      <th>4</th>\n",
       "      <td>1</td>\n",
       "      <td>0.1000</td>\n",
       "      <td>0.999917</td>\n",
       "      <td>0.9551</td>\n",
       "    </tr>\n",
       "    <tr>\n",
       "      <th>5</th>\n",
       "      <td>10</td>\n",
       "      <td>0.0001</td>\n",
       "      <td>0.93355</td>\n",
       "      <td>0.9367</td>\n",
       "    </tr>\n",
       "    <tr>\n",
       "      <th>6</th>\n",
       "      <td>10</td>\n",
       "      <td>0.0010</td>\n",
       "      <td>0.964783</td>\n",
       "      <td>0.9576</td>\n",
       "    </tr>\n",
       "    <tr>\n",
       "      <th>7</th>\n",
       "      <td>10</td>\n",
       "      <td>0.0100</td>\n",
       "      <td>0.999567</td>\n",
       "      <td>0.9833</td>\n",
       "    </tr>\n",
       "    <tr>\n",
       "      <th>8</th>\n",
       "      <td>10</td>\n",
       "      <td>0.0200</td>\n",
       "      <td>0.999967</td>\n",
       "      <td>0.9853</td>\n",
       "    </tr>\n",
       "    <tr>\n",
       "      <th>9</th>\n",
       "      <td>10</td>\n",
       "      <td>0.1000</td>\n",
       "      <td>1</td>\n",
       "      <td>0.957</td>\n",
       "    </tr>\n",
       "    <tr>\n",
       "      <th>10</th>\n",
       "      <td>100</td>\n",
       "      <td>0.0001</td>\n",
       "      <td>0.951867</td>\n",
       "      <td>0.9469</td>\n",
       "    </tr>\n",
       "    <tr>\n",
       "      <th>11</th>\n",
       "      <td>100</td>\n",
       "      <td>0.0010</td>\n",
       "      <td>0.990933</td>\n",
       "      <td>0.973</td>\n",
       "    </tr>\n",
       "    <tr>\n",
       "      <th>12</th>\n",
       "      <td>100</td>\n",
       "      <td>0.0100</td>\n",
       "      <td>1</td>\n",
       "      <td>0.9824</td>\n",
       "    </tr>\n",
       "    <tr>\n",
       "      <th>13</th>\n",
       "      <td>100</td>\n",
       "      <td>0.0200</td>\n",
       "      <td>1</td>\n",
       "      <td>0.9854</td>\n",
       "    </tr>\n",
       "    <tr>\n",
       "      <th>14</th>\n",
       "      <td>100</td>\n",
       "      <td>0.1000</td>\n",
       "      <td>1</td>\n",
       "      <td>0.957</td>\n",
       "    </tr>\n",
       "    <tr>\n",
       "      <th>15</th>\n",
       "      <td>1000</td>\n",
       "      <td>0.0001</td>\n",
       "      <td>0.97025</td>\n",
       "      <td>0.9532</td>\n",
       "    </tr>\n",
       "    <tr>\n",
       "      <th>16</th>\n",
       "      <td>1000</td>\n",
       "      <td>0.0010</td>\n",
       "      <td>0.9999</td>\n",
       "      <td>0.9739</td>\n",
       "    </tr>\n",
       "    <tr>\n",
       "      <th>17</th>\n",
       "      <td>1000</td>\n",
       "      <td>0.0100</td>\n",
       "      <td>1</td>\n",
       "      <td>0.9824</td>\n",
       "    </tr>\n",
       "    <tr>\n",
       "      <th>18</th>\n",
       "      <td>1000</td>\n",
       "      <td>0.0200</td>\n",
       "      <td>1</td>\n",
       "      <td>0.9854</td>\n",
       "    </tr>\n",
       "    <tr>\n",
       "      <th>19</th>\n",
       "      <td>1000</td>\n",
       "      <td>0.1000</td>\n",
       "      <td>1</td>\n",
       "      <td>0.957</td>\n",
       "    </tr>\n",
       "    <tr>\n",
       "      <th>20</th>\n",
       "      <td>10000</td>\n",
       "      <td>0.0001</td>\n",
       "      <td>0.993467</td>\n",
       "      <td>0.9597</td>\n",
       "    </tr>\n",
       "    <tr>\n",
       "      <th>21</th>\n",
       "      <td>10000</td>\n",
       "      <td>0.0010</td>\n",
       "      <td>1</td>\n",
       "      <td>0.9734</td>\n",
       "    </tr>\n",
       "    <tr>\n",
       "      <th>22</th>\n",
       "      <td>10000</td>\n",
       "      <td>0.0100</td>\n",
       "      <td>1</td>\n",
       "      <td>0.9824</td>\n",
       "    </tr>\n",
       "    <tr>\n",
       "      <th>23</th>\n",
       "      <td>10000</td>\n",
       "      <td>0.0200</td>\n",
       "      <td>1</td>\n",
       "      <td>0.9854</td>\n",
       "    </tr>\n",
       "    <tr>\n",
       "      <th>24</th>\n",
       "      <td>10000</td>\n",
       "      <td>0.1000</td>\n",
       "      <td>1</td>\n",
       "      <td>0.957</td>\n",
       "    </tr>\n",
       "    <tr>\n",
       "      <th>25</th>\n",
       "      <td>100000</td>\n",
       "      <td>0.0001</td>\n",
       "      <td>0.999917</td>\n",
       "      <td>0.9607</td>\n",
       "    </tr>\n",
       "    <tr>\n",
       "      <th>26</th>\n",
       "      <td>100000</td>\n",
       "      <td>0.0010</td>\n",
       "      <td>1</td>\n",
       "      <td>0.9734</td>\n",
       "    </tr>\n",
       "    <tr>\n",
       "      <th>27</th>\n",
       "      <td>100000</td>\n",
       "      <td>0.0100</td>\n",
       "      <td>1</td>\n",
       "      <td>0.9824</td>\n",
       "    </tr>\n",
       "    <tr>\n",
       "      <th>28</th>\n",
       "      <td>100000</td>\n",
       "      <td>0.0200</td>\n",
       "      <td>1</td>\n",
       "      <td>0.9854</td>\n",
       "    </tr>\n",
       "    <tr>\n",
       "      <th>29</th>\n",
       "      <td>100000</td>\n",
       "      <td>0.1000</td>\n",
       "      <td>1</td>\n",
       "      <td>0.957</td>\n",
       "    </tr>\n",
       "  </tbody>\n",
       "</table>\n",
       "</div>"
      ],
      "text/plain": [
       "         C   gamma train_acc test_acc\n",
       "0        1  0.0001  0.905583   0.9118\n",
       "1        1  0.0010   0.93885   0.9417\n",
       "2        1  0.0100   0.98545   0.9769\n",
       "3        1  0.0200    0.9946   0.9826\n",
       "4        1  0.1000  0.999917   0.9551\n",
       "5       10  0.0001   0.93355   0.9367\n",
       "6       10  0.0010  0.964783   0.9576\n",
       "7       10  0.0100  0.999567   0.9833\n",
       "8       10  0.0200  0.999967   0.9853\n",
       "9       10  0.1000         1    0.957\n",
       "10     100  0.0001  0.951867   0.9469\n",
       "11     100  0.0010  0.990933    0.973\n",
       "12     100  0.0100         1   0.9824\n",
       "13     100  0.0200         1   0.9854\n",
       "14     100  0.1000         1    0.957\n",
       "15    1000  0.0001   0.97025   0.9532\n",
       "16    1000  0.0010    0.9999   0.9739\n",
       "17    1000  0.0100         1   0.9824\n",
       "18    1000  0.0200         1   0.9854\n",
       "19    1000  0.1000         1    0.957\n",
       "20   10000  0.0001  0.993467   0.9597\n",
       "21   10000  0.0010         1   0.9734\n",
       "22   10000  0.0100         1   0.9824\n",
       "23   10000  0.0200         1   0.9854\n",
       "24   10000  0.1000         1    0.957\n",
       "25  100000  0.0001  0.999917   0.9607\n",
       "26  100000  0.0010         1   0.9734\n",
       "27  100000  0.0100         1   0.9824\n",
       "28  100000  0.0200         1   0.9854\n",
       "29  100000  0.1000         1    0.957"
      ]
     },
     "execution_count": 130,
     "metadata": {},
     "output_type": "execute_result"
    }
   ],
   "source": [
    "model.df"
   ]
  },
  {
   "cell_type": "code",
   "execution_count": 78,
   "metadata": {
    "scrolled": false
   },
   "outputs": [
    {
     "data": {
      "image/png": "[encoded data removed]",
      "text/plain": [
       "<matplotlib.figure.Figure at 0x1ec3d4fc400>"
      ]
     },
     "metadata": {},
     "output_type": "display_data"
    },
    {
     "data": {
      "image/png": "[encoded data removed]",
      "text/plain": [
       "<matplotlib.figure.Figure at 0x1ec49e94c18>"
      ]
     },
     "metadata": {},
     "output_type": "display_data"
    }
   ],
   "source": [
    "SVM_Models.heatmap(model.df['train_acc'], gammas, costs, 'Heatmap of Training Accuracy')\n",
    "SVM_Models.heatmap(model.df['test_acc'], gammas, costs, 'Heatmap of Testing Accuracy')"
   ]
  },
  {
   "cell_type": "markdown",
   "metadata": {},
   "source": [
    "One of the highest train accuracy (at index 9 on the table above) is 1 with C=10 and gamma=0.1, however, this seems to have high variance because the corresponding test accuracy is 0.957. Looking at index 13 with C=100 and gamma=0.02, the train and test accuracies are 1 and 0.9854 respectively. It is obvious that parameter grid at index 13 (C=100 and gamma=0.02) has less variance compared to index 9. \n",
    "\n",
    "From the heatmap, it can be shown that if the parameter gamma is too large, no amount of cost will prevent overfitting."
   ]
  },
  {
   "cell_type": "markdown",
   "metadata": {},
   "source": [
    "### Keeping Cost Constant"
   ]
  },
  {
   "cell_type": "code",
   "execution_count": 138,
   "metadata": {},
   "outputs": [
    {
     "data": {
      "text/html": [
       "<div>\n",
       "<style>\n",
       "    .dataframe thead tr:only-child th {\n",
       "        text-align: right;\n",
       "    }\n",
       "\n",
       "    .dataframe thead th {\n",
       "        text-align: left;\n",
       "    }\n",
       "\n",
       "    .dataframe tbody tr th {\n",
       "        vertical-align: top;\n",
       "    }\n",
       "</style>\n",
       "<table border=\"1\" class=\"dataframe\">\n",
       "  <thead>\n",
       "    <tr style=\"text-align: right;\">\n",
       "      <th></th>\n",
       "      <th>C</th>\n",
       "      <th>gamma</th>\n",
       "      <th>train_acc</th>\n",
       "      <th>test_acc</th>\n",
       "    </tr>\n",
       "  </thead>\n",
       "  <tbody>\n",
       "    <tr>\n",
       "      <th>0</th>\n",
       "      <td>1</td>\n",
       "      <td>0.0001</td>\n",
       "      <td>0.905583</td>\n",
       "      <td>0.9118</td>\n",
       "    </tr>\n",
       "    <tr>\n",
       "      <th>1</th>\n",
       "      <td>1</td>\n",
       "      <td>0.0010</td>\n",
       "      <td>0.93885</td>\n",
       "      <td>0.9417</td>\n",
       "    </tr>\n",
       "    <tr>\n",
       "      <th>2</th>\n",
       "      <td>1</td>\n",
       "      <td>0.0100</td>\n",
       "      <td>0.98545</td>\n",
       "      <td>0.9769</td>\n",
       "    </tr>\n",
       "    <tr>\n",
       "      <th>3</th>\n",
       "      <td>1</td>\n",
       "      <td>0.0200</td>\n",
       "      <td>0.9946</td>\n",
       "      <td>0.9826</td>\n",
       "    </tr>\n",
       "    <tr>\n",
       "      <th>4</th>\n",
       "      <td>1</td>\n",
       "      <td>0.1000</td>\n",
       "      <td>0.999917</td>\n",
       "      <td>0.9551</td>\n",
       "    </tr>\n",
       "  </tbody>\n",
       "</table>\n",
       "</div>"
      ],
      "text/plain": [
       "   C   gamma train_acc test_acc\n",
       "0  1  0.0001  0.905583   0.9118\n",
       "1  1  0.0010   0.93885   0.9417\n",
       "2  1  0.0100   0.98545   0.9769\n",
       "3  1  0.0200    0.9946   0.9826\n",
       "4  1  0.1000  0.999917   0.9551"
      ]
     },
     "execution_count": 138,
     "metadata": {},
     "output_type": "execute_result"
    }
   ],
   "source": [
    "model.df.iloc[0:5,]"
   ]
  },
  {
   "cell_type": "markdown",
   "metadata": {},
   "source": [
    "When cost is kept constant, a small value of gamma tends to underfit the model which leads to high bias and low variance. Conversely, at a constant cost, large gamma overfit the model resulting in low bias and high variance. "
   ]
  },
  {
   "cell_type": "markdown",
   "metadata": {},
   "source": [
    "### Keeping Gamma Constant"
   ]
  },
  {
   "cell_type": "code",
   "execution_count": 136,
   "metadata": {},
   "outputs": [
    {
     "data": {
      "text/html": [
       "<div>\n",
       "<style>\n",
       "    .dataframe thead tr:only-child th {\n",
       "        text-align: right;\n",
       "    }\n",
       "\n",
       "    .dataframe thead th {\n",
       "        text-align: left;\n",
       "    }\n",
       "\n",
       "    .dataframe tbody tr th {\n",
       "        vertical-align: top;\n",
       "    }\n",
       "</style>\n",
       "<table border=\"1\" class=\"dataframe\">\n",
       "  <thead>\n",
       "    <tr style=\"text-align: right;\">\n",
       "      <th></th>\n",
       "      <th>C</th>\n",
       "      <th>gamma</th>\n",
       "      <th>train_acc</th>\n",
       "      <th>test_acc</th>\n",
       "    </tr>\n",
       "  </thead>\n",
       "  <tbody>\n",
       "    <tr>\n",
       "      <th>1</th>\n",
       "      <td>1</td>\n",
       "      <td>0.001</td>\n",
       "      <td>0.93885</td>\n",
       "      <td>0.9417</td>\n",
       "    </tr>\n",
       "    <tr>\n",
       "      <th>6</th>\n",
       "      <td>10</td>\n",
       "      <td>0.001</td>\n",
       "      <td>0.964783</td>\n",
       "      <td>0.9576</td>\n",
       "    </tr>\n",
       "    <tr>\n",
       "      <th>11</th>\n",
       "      <td>100</td>\n",
       "      <td>0.001</td>\n",
       "      <td>0.990933</td>\n",
       "      <td>0.973</td>\n",
       "    </tr>\n",
       "    <tr>\n",
       "      <th>16</th>\n",
       "      <td>1000</td>\n",
       "      <td>0.001</td>\n",
       "      <td>0.9999</td>\n",
       "      <td>0.9739</td>\n",
       "    </tr>\n",
       "    <tr>\n",
       "      <th>21</th>\n",
       "      <td>10000</td>\n",
       "      <td>0.001</td>\n",
       "      <td>1</td>\n",
       "      <td>0.9734</td>\n",
       "    </tr>\n",
       "    <tr>\n",
       "      <th>26</th>\n",
       "      <td>100000</td>\n",
       "      <td>0.001</td>\n",
       "      <td>1</td>\n",
       "      <td>0.9734</td>\n",
       "    </tr>\n",
       "  </tbody>\n",
       "</table>\n",
       "</div>"
      ],
      "text/plain": [
       "         C  gamma train_acc test_acc\n",
       "1        1  0.001   0.93885   0.9417\n",
       "6       10  0.001  0.964783   0.9576\n",
       "11     100  0.001  0.990933    0.973\n",
       "16    1000  0.001    0.9999   0.9739\n",
       "21   10000  0.001         1   0.9734\n",
       "26  100000  0.001         1   0.9734"
      ]
     },
     "execution_count": 136,
     "metadata": {},
     "output_type": "execute_result"
    }
   ],
   "source": [
    "model.df.sort_values(['gamma', 'C']).iloc[6:12,]"
   ]
  },
  {
   "cell_type": "markdown",
   "metadata": {},
   "source": [
    "At constant gamma, a small value (more room for misclassification) of cost tends to underfit the model which leads to high bias and low variance. Conversely, at a constant cost, large cost (complex model - no room for misclassification) overfit the model resulting in low bias and high variance."
   ]
  },
  {
   "cell_type": "markdown",
   "metadata": {},
   "source": [
    "### Performance of LinearSVC vs. RBF SVC"
   ]
  },
  {
   "cell_type": "markdown",
   "metadata": {},
   "source": [
    "The performance of the RBF SVC outperformed that of LinearSVC. However, taking into account the training time, the LinearSVC is faster, this is because of the maximum iteration for. \"SVMs decision function depends on some subset of the training data, called the support vectors. [3]\" Since training is only done once and the support vectors are the key attributes for prediction, then the radial basis SVC is better.\n",
    "\n",
    "Max iteration in SVC in infinity [3], however, it is set to 1000 in LinearSVC. It is unclear how this can affect the performance of the LinearSVC.\n",
    "\n",
    "LinearSVC can accommodate either 'l1' or 'l2' penalization, however, the 'l2' penalty is used in SVC. 'l1' implies coef vectors that are sparse."
   ]
  },
  {
   "cell_type": "markdown",
   "metadata": {},
   "source": [
    "### Best set of parameters"
   ]
  },
  {
   "cell_type": "markdown",
   "metadata": {},
   "source": [
    "Generally, high cost leads to high variance and low bias, and low cost resulted in low variance and high bias. Also, high gamma leads to high variance and low bias, and low gamma resulted in low variance and high bias. The best set of parameters (C and gamma) should give a balanced trade-off between variance and bias. \n",
    "\n",
    "The heatmaps (train & test) give more insight into the effect of bias and variance as cost and gamma changes. It is can be seen that C=1 and gamma=0.02 provided a balanced tradeoff between bias and variance, this gives a train and test accuracy of 0.9946 and 0.9826 respectively. Also, this has a relatively small number of support vectors. "
   ]
  },
  {
   "cell_type": "markdown",
   "metadata": {},
   "source": [
    "# (ii) Interpreting outputs n_support_ and dual_coef_ of the best model"
   ]
  },
  {
   "cell_type": "markdown",
   "metadata": {},
   "source": [
    "The n_support_ output gives the number of support vectors that exist for each class, while the dual_coef_ gives the alpha values. The alpha determines the training objects that act as support vectors (boundaries of the margin) for the classifier. Essentially, objects with alpha > 0 are objects on the boundary of the margin.\n",
    "\n",
    "The dual_coef_ represents the coefficients of the support vector in the decision function. For multi-class classification, the dual_coef_ is the coefficients of all the 1-vs-1 classifiers [3]. In this case, there are a total of 13258 support vectors, models involving class 1 has the least number of support vectors of 549. This can be attributed to the fact that class 1 is more easier to be separated compared to other classes. Class 8 has the highest number of support vectors, thus, it can be assumed that class 8 requires complex modeling.\n",
    "\n",
    "dual_coef_ has a shape of [n_class - 1, n_support_vector], thus the dual_coef_ for the best model is [9, 13258]. \"Each of the support vectors is used in n_class - 1 classifiers. The n_class - 1 entries in each row correspond to the dual coefficients for these classifiers. [4]\" Hence, there are coefficients for SVs of class 0, coefficients for SVs of class 1, ... , coefficients for SVs of class 9 in the dualcoef."
   ]
  },
  {
   "cell_type": "code",
   "execution_count": 193,
   "metadata": {
    "collapsed": true
   },
   "outputs": [],
   "source": [
    "best_model = model.model_param[3]"
   ]
  },
  {
   "cell_type": "code",
   "execution_count": 203,
   "metadata": {
    "collapsed": true
   },
   "outputs": [],
   "source": [
    "n_supp = best_model.n_support_\n",
    "sup_vec = best_model.support_\n",
    "dual = best_model.dual_coef_"
   ]
  },
  {
   "cell_type": "markdown",
   "metadata": {},
   "source": [
    "### Support Vectors For First Positive Class"
   ]
  },
  {
   "cell_type": "code",
   "execution_count": 245,
   "metadata": {},
   "outputs": [
    {
     "data": {
      "image/png": "[encoded data removed]",
      "text/plain": [
       "<matplotlib.figure.Figure at 0x1ed4a99c518>"
      ]
     },
     "metadata": {},
     "output_type": "display_data"
    }
   ],
   "source": [
    "SVM_Models.plot_support(n_supp, sup_vec, util.train)"
   ]
  },
  {
   "cell_type": "markdown",
   "metadata": {},
   "source": [
    "The images above represent one of the support vectors of each of the 'one-against-one' classifiers. For example, the first image is one of the support vectors of model class 0 vs. 1, this produces an image of digit 0 because it is positively classified."
   ]
  },
  {
   "cell_type": "markdown",
   "metadata": {},
   "source": [
    "### Support Vectors For First Negative Class"
   ]
  },
  {
   "cell_type": "code",
   "execution_count": 246,
   "metadata": {},
   "outputs": [
    {
     "data": {
      "image/png": "[encoded data removed]",
      "text/plain": [
       "<matplotlib.figure.Figure at 0x1ed4a63b128>"
      ]
     },
     "metadata": {},
     "output_type": "display_data"
    }
   ],
   "source": [
    "SVM_Models.plot_support_neg(n_supp, sup_vec, util.train)"
   ]
  },
  {
   "cell_type": "markdown",
   "metadata": {},
   "source": [
    "Also, the images above represent one of the support vectors of each of the 'one-against-one' classifiers. For example, the first image is one of the support vectors of model class 0 vs. 1, this produces an image of digit 1 because it is negatively classified."
   ]
  },
  {
   "cell_type": "markdown",
   "metadata": {
    "collapsed": true
   },
   "source": [
    "#### References:"
   ]
  },
  {
   "cell_type": "markdown",
   "metadata": {},
   "source": [
    "[1] http://scikit-learn.org/stable/auto_examples/svm/plot_rbf_parameters.html\n",
    "\n",
    "[2] https://en.wikipedia.org/w/index.php?title=Radial_basis_function_kernel&action=edit\n",
    "\n",
    "[3] http://scikit-learn.org/stable/modules/generated/sklearn.svm.SVC.html#sklearn.svm.SVC\n",
    "\n",
    "[4] http://scikit-learn.org/stable/modules/svm.html"
   ]
  }
 ],
 "metadata": {
  "kernelspec": {
   "display_name": "Python 3",
   "language": "python",
   "name": "python3"
  },
  "language_info": {
   "codemirror_mode": {
    "name": "ipython",
    "version": 3
   },
   "file_extension": ".py",
   "mimetype": "text/x-python",
   "name": "python",
   "nbconvert_exporter": "python",
   "pygments_lexer": "ipython3",
   "version": "3.6.1"
  }
 },
 "nbformat": 4,
 "nbformat_minor": 2
}
